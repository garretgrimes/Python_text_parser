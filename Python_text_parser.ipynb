{
 "cells": [
  {
   "cell_type": "code",
   "execution_count": 1,
   "metadata": {},
   "outputs": [],
   "source": [
    "# Code written by: Garret Grimes\n",
    "# For UMGC DATA 620 Summer 2022\n",
    "# Professor: Dr. Carrie Beam"
   ]
  },
  {
   "cell_type": "markdown",
   "metadata": {},
   "source": [
    "## Importing all required libraries"
   ]
  },
  {
   "cell_type": "code",
   "execution_count": 2,
   "metadata": {},
   "outputs": [
    {
     "name": "stdout",
     "output_type": "stream",
     "text": [
      "Requirement already satisfied: nltk in c:\\users\\garre\\anaconda3\\lib\\site-packages (3.5)\n",
      "Requirement already satisfied: click in c:\\users\\garre\\anaconda3\\lib\\site-packages (from nltk) (7.1.2)\n",
      "Requirement already satisfied: joblib in c:\\users\\garre\\anaconda3\\lib\\site-packages (from nltk) (0.17.0)\n",
      "Requirement already satisfied: tqdm in c:\\users\\garre\\anaconda3\\lib\\site-packages (from nltk) (4.50.2)\n",
      "Requirement already satisfied: regex in c:\\users\\garre\\anaconda3\\lib\\site-packages (from nltk) (2020.10.15)\n",
      "Requirement already satisfied: matplotlib in c:\\users\\garre\\anaconda3\\lib\\site-packages (3.3.2)\n",
      "Requirement already satisfied: numpy>=1.15 in c:\\users\\garre\\anaconda3\\lib\\site-packages (from matplotlib) (1.22.2)\n",
      "Requirement already satisfied: python-dateutil>=2.1 in c:\\users\\garre\\anaconda3\\lib\\site-packages (from matplotlib) (2.8.1)\n",
      "Requirement already satisfied: pillow>=6.2.0 in c:\\users\\garre\\anaconda3\\lib\\site-packages (from matplotlib) (8.0.1)\n",
      "Requirement already satisfied: certifi>=2020.06.20 in c:\\users\\garre\\anaconda3\\lib\\site-packages (from matplotlib) (2020.6.20)\n",
      "Requirement already satisfied: kiwisolver>=1.0.1 in c:\\users\\garre\\anaconda3\\lib\\site-packages (from matplotlib) (1.3.0)\n",
      "Requirement already satisfied: pyparsing!=2.0.4,!=2.1.2,!=2.1.6,>=2.0.3 in c:\\users\\garre\\anaconda3\\lib\\site-packages (from matplotlib) (2.4.7)\n",
      "Requirement already satisfied: cycler>=0.10 in c:\\users\\garre\\anaconda3\\lib\\site-packages (from matplotlib) (0.10.0)\n",
      "Requirement already satisfied: six>=1.5 in c:\\users\\garre\\anaconda3\\lib\\site-packages (from python-dateutil>=2.1->matplotlib) (1.15.0)\n"
     ]
    },
    {
     "name": "stderr",
     "output_type": "stream",
     "text": [
      "[nltk_data] Downloading package stopwords to\n",
      "[nltk_data]     C:\\Users\\garre\\AppData\\Roaming\\nltk_data...\n",
      "[nltk_data]   Package stopwords is already up-to-date!\n",
      "[nltk_data] Downloading package wordnet to\n",
      "[nltk_data]     C:\\Users\\garre\\AppData\\Roaming\\nltk_data...\n",
      "[nltk_data]   Package wordnet is already up-to-date!\n",
      "[nltk_data] Downloading package omw-1.4 to\n",
      "[nltk_data]     C:\\Users\\garre\\AppData\\Roaming\\nltk_data...\n",
      "[nltk_data]   Package omw-1.4 is already up-to-date!\n"
     ]
    },
    {
     "data": {
      "text/plain": [
       "True"
      ]
     },
     "execution_count": 2,
     "metadata": {},
     "output_type": "execute_result"
    }
   ],
   "source": [
    "import sys\n",
    "!{sys.executable} -m pip install nltk\n",
    "!{sys.executable} -m pip install matplotlib\n",
    "\n",
    "import pandas as pd\n",
    "import string\n",
    "import nltk \n",
    "import matplotlib.pyplot as plt\n",
    "from nltk.corpus import stopwords\n",
    "from nltk.stem.wordnet import WordNetLemmatizer\n",
    "nltk.download('stopwords')\n",
    "nltk.download('wordnet')\n",
    "nltk.download('omw-1.4')"
   ]
  },
  {
   "cell_type": "markdown",
   "metadata": {},
   "source": [
    "## Here we load in the file based on the filename. If the filename doesn't exist, the program exits."
   ]
  },
  {
   "cell_type": "code",
   "execution_count": 3,
   "metadata": {},
   "outputs": [],
   "source": [
    "filename = 'Obama_2016.txt'\n",
    "\n",
    "try:\n",
    "    file = open(filename)\n",
    "except:\n",
    "    print('File cannot be opened: ', filename)"
   ]
  },
  {
   "cell_type": "code",
   "execution_count": 4,
   "metadata": {},
   "outputs": [],
   "source": [
    "filename1 = 'Johnson_1968.txt'\n",
    "\n",
    "try:\n",
    "    file1 = open(filename1)\n",
    "except:\n",
    "    print('File cannot be opened: ', filename1)"
   ]
  },
  {
   "cell_type": "code",
   "execution_count": 5,
   "metadata": {},
   "outputs": [],
   "source": [
    "filename2 = 'Wilson_1913.txt'\n",
    "\n",
    "try:\n",
    "    file2 = open(filename2)\n",
    "except:\n",
    "    print('File cannot be opened: ', filename2)"
   ]
  },
  {
   "cell_type": "code",
   "execution_count": 6,
   "metadata": {},
   "outputs": [],
   "source": [
    "filename3 = 'Grant_1873.txt'\n",
    "\n",
    "try:\n",
    "    file3 = open(filename3)\n",
    "except:\n",
    "    print('File cannot be opened: ', filename3)"
   ]
  },
  {
   "cell_type": "markdown",
   "metadata": {},
   "source": [
    "## Here we load in the stopwords from the downloaded nltk stopwords list."
   ]
  },
  {
   "cell_type": "code",
   "execution_count": 7,
   "metadata": {},
   "outputs": [],
   "source": [
    "lmtzr = WordNetLemmatizer()\n",
    "stop = stopwords.words('english')\n",
    "stop.append(\"•\")\n",
    "stop.append(\"us\")\n",
    "stop.append(\"you\")\n",
    "stop.append(\"thats\")"
   ]
  },
  {
   "cell_type": "markdown",
   "metadata": {},
   "source": [
    "## Function to sort and reverse word list"
   ]
  },
  {
   "cell_type": "code",
   "execution_count": 8,
   "metadata": {},
   "outputs": [],
   "source": [
    "def sort_and_reverse(lst):\n",
    "    lst.sort()\n",
    "    lst.reverse()"
   ]
  },
  {
   "cell_type": "markdown",
   "metadata": {},
   "source": [
    "## This function graphs the words we choose onto a bar graph and adjusts the labels."
   ]
  },
  {
   "cell_type": "code",
   "execution_count": 9,
   "metadata": {},
   "outputs": [],
   "source": [
    "def graph_words(wordlist, N):\n",
    "    words=[]\n",
    "    counts=[]\n",
    "    for x, word in wordlist[:N]:\n",
    "        words.append(word)\n",
    "        counts.append(x)\n",
    "    fig, ax = plt.subplots()\n",
    "    ax.bar(words, counts)\n",
    "    fig.autofmt_xdate()\n",
    "    plt.show()"
   ]
  },
  {
   "cell_type": "markdown",
   "metadata": {},
   "source": [
    "## Takes in the file, stopwords list, and number of important words and returns the most frequent words"
   ]
  },
  {
   "cell_type": "code",
   "execution_count": 10,
   "metadata": {},
   "outputs": [],
   "source": [
    "def most_frequent_words(file, stop, N):  \n",
    "    counts = dict()\n",
    "\n",
    "    for line in file:\n",
    "        line = line.rstrip()\n",
    "        line = line.translate(line.maketrans('', '', string.punctuation))\n",
    "        line = line.lower()\n",
    "        words = line.split()\n",
    "\n",
    "        #Now processes the words list, and removes the stop words.\n",
    "        for word in words:\n",
    "            if word not in stop:\n",
    "                #Lemmatizing- we group similar word inflections together (e.g. rock and rocks becomes the same word)\n",
    "                word=lmtzr.lemmatize(word)\n",
    "                if word not in counts:\n",
    "                    counts[word] = 1\n",
    "                else:\n",
    "                    counts[word] += 1\n",
    "            \n",
    "\n",
    "    #Puts the dictionary of counts into a list.\n",
    "    word_list = [(counts[w], w) for w in counts]\n",
    "    \n",
    "    #Sort and reverse the list.\n",
    "    sort_and_reverse(word_list)\n",
    "    \n",
    "    #Prints the table of most frequent words\n",
    "    print(\"The \" + str(N) + \" most frequent words are\")\n",
    "    print(\"Rank\\tCount\\tWord\")\n",
    "    i = 1\n",
    "    for x, word in word_list[:N]:\n",
    "        print('%2s\\t%4s\\t%s' %(i, x, word))\n",
    "        i += 1\n",
    "    \n",
    "    #Plot the words.\n",
    "    graph_words(word_list, N)\n",
    "    \n",
    "    return counts"
   ]
  },
  {
   "cell_type": "markdown",
   "metadata": {},
   "source": [
    "## The next 4 lines  are assigning the counts to a variable and the function is returning the top 10 words and graphing the results \n"
   ]
  },
  {
   "cell_type": "code",
   "execution_count": 11,
   "metadata": {},
   "outputs": [
    {
     "name": "stdout",
     "output_type": "stream",
     "text": [
      "The 10 most frequent words are\n",
      "Rank\tCount\tWord\n",
      " 1\t  37\tamerican\n",
      " 2\t  35\tyear\n",
      " 3\t  33\tamerica\n",
      " 4\t  27\tpeople\n",
      " 5\t  24\twork\n",
      " 6\t  24\tmake\n",
      " 7\t  23\tworld\n",
      " 8\t  23\tchange\n",
      " 9\t  20\twant\n",
      "10\t  20\tneed\n"
     ]
    },
    {
     "data": {
      "image/png": "[encoded data removed]",
      "text/plain": [
       "<Figure size 432x288 with 1 Axes>"
      ]
     },
     "metadata": {
      "needs_background": "light"
     },
     "output_type": "display_data"
    }
   ],
   "source": [
    "obama = most_frequent_words(file, stop, 10)"
   ]
  },
  {
   "cell_type": "code",
   "execution_count": 12,
   "metadata": {},
   "outputs": [
    {
     "name": "stdout",
     "output_type": "stream",
     "text": [
      "The 10 most frequent words are\n",
      "Rank\tCount\tWord\n",
      " 1\t  41\tyear\n",
      " 2\t  29\tcongress\n",
      " 3\t  27\tbillion\n",
      " 4\t  24\tamerican\n",
      " 5\t  21\tnation\n",
      " 6\t  20\tlast\n",
      " 7\t  19\tnew\n",
      " 8\t  18\tmust\n",
      " 9\t  17\tprogram\n",
      "10\t  17\tamerica\n"
     ]
    },
    {
     "data": {
      "image/png": "[encoded data removed]",
      "text/plain": [
       "<Figure size 432x288 with 1 Axes>"
      ]
     },
     "metadata": {
      "needs_background": "light"
     },
     "output_type": "display_data"
    }
   ],
   "source": [
    "johnson = most_frequent_words(file1, stop, 10)"
   ]
  },
  {
   "cell_type": "code",
   "execution_count": 13,
   "metadata": {},
   "outputs": [
    {
     "name": "stdout",
     "output_type": "stream",
     "text": [
      "The 10 most frequent words are\n",
      "Rank\tCount\tWord\n",
      " 1\t  20\tupon\n",
      " 2\t  18\tcountry\n",
      " 3\t  16\tgovernment\n",
      " 4\t  15\tpeople\n",
      " 5\t  13\tstate\n",
      " 6\t  13\tshall\n",
      " 7\t  13\tmust\n",
      " 8\t  10\tmay\n",
      " 9\t  10\tmatter\n",
      "10\t   9\tmake\n"
     ]
    },
    {
     "data": {
      "image/png": "[encoded data removed]",
      "text/plain": [
       "<Figure size 432x288 with 1 Axes>"
      ]
     },
     "metadata": {
      "needs_background": "light"
     },
     "output_type": "display_data"
    }
   ],
   "source": [
    "wilson = most_frequent_words(file2, stop, 10)"
   ]
  },
  {
   "cell_type": "code",
   "execution_count": 14,
   "metadata": {},
   "outputs": [
    {
     "name": "stdout",
     "output_type": "stream",
     "text": [
      "The 10 most frequent words are\n",
      "Rank\tCount\tWord\n",
      " 1\t  66\tstate\n",
      " 2\t  60\tcongress\n",
      " 3\t  48\tyear\n",
      " 4\t  46\tunited\n",
      " 5\t  45\tgovernment\n",
      " 6\t  38\tcountry\n",
      " 7\t  34\twould\n",
      " 8\t  29\tmay\n",
      " 9\t  27\tsubject\n",
      "10\t  27\tlast\n"
     ]
    },
    {
     "data": {
      "image/png": "[encoded data removed]",
      "text/plain": [
       "<Figure size 432x288 with 1 Axes>"
      ]
     },
     "metadata": {
      "needs_background": "light"
     },
     "output_type": "display_data"
    }
   ],
   "source": [
    "grant = most_frequent_words(file3, stop, 10)"
   ]
  },
  {
   "cell_type": "markdown",
   "metadata": {},
   "source": [
    "## The next 4 lines are putting the dictionaries in a pandas DF"
   ]
  },
  {
   "cell_type": "code",
   "execution_count": 15,
   "metadata": {},
   "outputs": [],
   "source": [
    "obama_df = pd.DataFrame(list(obama.items()), columns = ['word', 'count'])"
   ]
  },
  {
   "cell_type": "code",
   "execution_count": 16,
   "metadata": {},
   "outputs": [],
   "source": [
    "johnson_df = pd.DataFrame(list(johnson.items()), columns = ['word', 'count'])"
   ]
  },
  {
   "cell_type": "code",
   "execution_count": 17,
   "metadata": {},
   "outputs": [],
   "source": [
    "wilson_df = pd.DataFrame(list(wilson.items()), columns = ['word', 'count'])"
   ]
  },
  {
   "cell_type": "code",
   "execution_count": 18,
   "metadata": {},
   "outputs": [],
   "source": [
    "grant_df = pd.DataFrame(list(grant.items()), columns = ['word', 'count'])"
   ]
  },
  {
   "cell_type": "markdown",
   "metadata": {},
   "source": [
    "## Declaring a new column with the year of the address"
   ]
  },
  {
   "cell_type": "code",
   "execution_count": 19,
   "metadata": {},
   "outputs": [],
   "source": [
    "obama_df['year'] = 2016"
   ]
  },
  {
   "cell_type": "code",
   "execution_count": 20,
   "metadata": {},
   "outputs": [],
   "source": [
    "johnson_df['year'] = 1968"
   ]
  },
  {
   "cell_type": "code",
   "execution_count": 21,
   "metadata": {},
   "outputs": [],
   "source": [
    "wilson_df['year'] = 1913"
   ]
  },
  {
   "cell_type": "code",
   "execution_count": 22,
   "metadata": {},
   "outputs": [],
   "source": [
    "grant_df['year'] = 1873"
   ]
  },
  {
   "cell_type": "markdown",
   "metadata": {},
   "source": [
    "## Declaring a new column with the president"
   ]
  },
  {
   "cell_type": "code",
   "execution_count": 23,
   "metadata": {},
   "outputs": [],
   "source": [
    "obama_df['president'] = 'Obama'"
   ]
  },
  {
   "cell_type": "code",
   "execution_count": 24,
   "metadata": {},
   "outputs": [],
   "source": [
    "johnson_df['president'] = 'Johnson'"
   ]
  },
  {
   "cell_type": "code",
   "execution_count": 25,
   "metadata": {},
   "outputs": [],
   "source": [
    "wilson_df['president'] = 'Wilson'"
   ]
  },
  {
   "cell_type": "code",
   "execution_count": 26,
   "metadata": {},
   "outputs": [],
   "source": [
    "grant_df['president'] = 'Grant'"
   ]
  },
  {
   "cell_type": "markdown",
   "metadata": {},
   "source": [
    "## Appending all of the new DFs so we have one .csv to analyze with Tableau"
   ]
  },
  {
   "cell_type": "code",
   "execution_count": 27,
   "metadata": {},
   "outputs": [],
   "source": [
    "df = obama_df.append([johnson_df, wilson_df, grant_df])"
   ]
  },
  {
   "cell_type": "code",
   "execution_count": 28,
   "metadata": {},
   "outputs": [],
   "source": [
    "df.to_csv('all.csv')"
   ]
  }
 ],
 "metadata": {
  "kernelspec": {
   "display_name": "Python 3",
   "language": "python",
   "name": "python3"
  },
  "language_info": {
   "codemirror_mode": {
    "name": "ipython",
    "version": 3
   },
   "file_extension": ".py",
   "mimetype": "text/x-python",
   "name": "python",
   "nbconvert_exporter": "python",
   "pygments_lexer": "ipython3",
   "version": "3.8.5"
  }
 },
 "nbformat": 4,
 "nbformat_minor": 4
}
